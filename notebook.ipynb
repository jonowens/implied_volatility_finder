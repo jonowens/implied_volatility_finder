{
 "cells": [
  {
   "cell_type": "code",
   "execution_count": 1,
   "metadata": {},
   "outputs": [],
   "source": [
    "# Implied Volatility Finder\n"
   ]
  },
  {
   "cell_type": "code",
   "execution_count": 2,
   "metadata": {},
   "outputs": [],
   "source": [
    "from libs import connections\n"
   ]
  },
  {
   "cell_type": "code",
   "execution_count": 3,
   "metadata": {},
   "outputs": [
    {
     "ename": "TypeError",
     "evalue": "REST.get_bars() got multiple values for argument 'start'",
     "output_type": "error",
     "traceback": [
      "\u001b[0;31m---------------------------------------------------------------------------\u001b[0m",
      "\u001b[0;31mTypeError\u001b[0m                                 Traceback (most recent call last)",
      "Cell \u001b[0;32mIn[3], line 2\u001b[0m\n\u001b[1;32m      1\u001b[0m apca_connection \u001b[39m=\u001b[39m connections\u001b[39m.\u001b[39malpaca_trading_connection()\n\u001b[0;32m----> 2\u001b[0m response \u001b[39m=\u001b[39m apca_connection\u001b[39m.\u001b[39;49mget_asset_history(\u001b[39m'\u001b[39;49m\u001b[39mAAPL\u001b[39;49m\u001b[39m'\u001b[39;49m, \u001b[39m'\u001b[39;49m\u001b[39m1D\u001b[39;49m\u001b[39m'\u001b[39;49m, \u001b[39m'\u001b[39;49m\u001b[39mday\u001b[39;49m\u001b[39m'\u001b[39;49m, \u001b[39m'\u001b[39;49m\u001b[39m1-1-2023\u001b[39;49m\u001b[39m'\u001b[39;49m, \u001b[39m'\u001b[39;49m\u001b[39m8-31-2023\u001b[39;49m\u001b[39m'\u001b[39;49m)\n\u001b[1;32m      3\u001b[0m response\n",
      "File \u001b[0;32m~/code/personal/implied_volatility_finder/libs/connections.py:37\u001b[0m, in \u001b[0;36malpaca_trading_connection.get_asset_history\u001b[0;34m(name, symbol, timeframe, num_intervals, starting_date, ending_date)\u001b[0m\n\u001b[1;32m     34\u001b[0m end_date \u001b[39m=\u001b[39m pd\u001b[39m.\u001b[39mTimestamp(ending_date, tz\u001b[39m=\u001b[39m\u001b[39m\"\u001b[39m\u001b[39mAmerica/New_York\u001b[39m\u001b[39m\"\u001b[39m)\u001b[39m.\u001b[39misoformat()\n\u001b[1;32m     36\u001b[0m \u001b[39m# Get historical data\u001b[39;00m\n\u001b[0;32m---> 37\u001b[0m hist_data \u001b[39m=\u001b[39m name\u001b[39m.\u001b[39;49malpaca_api\u001b[39m.\u001b[39;49mget_bars(symbol, timeframe, num_intervals, start\u001b[39m=\u001b[39;49mstart_date, end\u001b[39m=\u001b[39;49mend_date)\n\u001b[1;32m     39\u001b[0m \u001b[39m# Return data\u001b[39;00m\n\u001b[1;32m     40\u001b[0m \u001b[39mreturn\u001b[39;00m hist_data\n",
      "\u001b[0;31mTypeError\u001b[0m: REST.get_bars() got multiple values for argument 'start'"
     ]
    }
   ],
   "source": [
    "apca_connection = connections.alpaca_trading_connection()\n",
    "response = apca_connection.get_asset_history('AAPL', '1D', 'day', '1-1-2023', '8-31-2023')\n",
    "response\n"
   ]
  },
  {
   "cell_type": "code",
   "execution_count": null,
   "metadata": {},
   "outputs": [],
   "source": []
  }
 ],
 "metadata": {
  "kernelspec": {
   "display_name": "Python 3",
   "language": "python",
   "name": "python3"
  },
  "language_info": {
   "codemirror_mode": {
    "name": "ipython",
    "version": 3
   },
   "file_extension": ".py",
   "mimetype": "text/x-python",
   "name": "python",
   "nbconvert_exporter": "python",
   "pygments_lexer": "ipython3",
   "version": "3.10.12"
  },
  "orig_nbformat": 4
 },
 "nbformat": 4,
 "nbformat_minor": 2
}
