{
 "cells": [
  {
   "cell_type": "code",
   "execution_count": null,
   "metadata": {},
   "outputs": [],
   "source": [
    "# Implied Volatility Finder\n"
   ]
  },
  {
   "cell_type": "code",
   "execution_count": null,
   "metadata": {},
   "outputs": [],
   "source": [
    "from libs import my_functions\n",
    "import libs.universe as tickers\n",
    "import pandas as pd\n",
    "import pprint\n"
   ]
  },
  {
   "cell_type": "code",
   "execution_count": null,
   "metadata": {},
   "outputs": [],
   "source": [
    "start = '2023-09-01'\n",
    "end = '2023-09-07'\n",
    "tickers_list = tickers.Universe\n"
   ]
  },
  {
   "cell_type": "code",
   "execution_count": null,
   "metadata": {},
   "outputs": [],
   "source": [
    "result = my_functions.Alpaca_Markets.get_stock_data(tickers_list, '23Hour', start, end)\n",
    "result\n"
   ]
  },
  {
   "cell_type": "code",
   "execution_count": null,
   "metadata": {},
   "outputs": [],
   "source": [
    "iv_result = my_functions.calculate_volatility(result, tickers_list, '2023-06-01', end)\n",
    "iv_resultsorted_iv = iv_result.sort_values(ascending = False).head(20)\n",
    "iv_resultsorted_iv\n"
   ]
  },
  {
   "cell_type": "code",
   "execution_count": null,
   "metadata": {},
   "outputs": [],
   "source": [
    "polygon_response = my_functions.Polygon_Markets.get_stock_data('AAPL', 1, 'day', '2023-09-01', '2023-09-12', 50000)\n",
    "polygon_response\n"
   ]
  },
  {
   "cell_type": "code",
   "execution_count": null,
   "metadata": {},
   "outputs": [],
   "source": [
    "polygon_options = my_functions.Polygon_Markets.get_options_data('F', '2023-09-18', '2023-10-30', 20, 150)\n"
   ]
  },
  {
   "cell_type": "code",
   "execution_count": null,
   "metadata": {},
   "outputs": [],
   "source": [
    "opt = pprint.pprint(polygon_options)"
   ]
  },
  {
   "cell_type": "code",
   "execution_count": null,
   "metadata": {},
   "outputs": [],
   "source": [
    "import requests\n",
    "import os\n",
    "from dotenv import load_dotenv\n",
    "from pprint import pprint\n",
    "import json\n",
    "\n",
    "load_dotenv()\n",
    "\n",
    "polygon_key = os.getenv(\"POLYGON_API_KEY\")\n",
    "\n",
    "url = 'https://api.polygon.io/v3/snapshot/options/'\n",
    "url += 'EVRI'\n",
    "url+= f'?apiKey={polygon_key}'\n",
    "\n",
    "res = requests.get(url)\n",
    "res_formatted = res.json()\n",
    "pprint(res_formatted)\n"
   ]
  },
  {
   "cell_type": "code",
   "execution_count": null,
   "metadata": {},
   "outputs": [],
   "source": [
    "exp_date = res_formatted['results'][0]['details']['expiration_date']\n",
    "strike = res_formatted['results'][0]['details']['strike_price']\n",
    "type = res_formatted['results'][0]['details']['contract_type']\n",
    "print(f'Expiration Date: {exp_date}\\nStrike: {strike}\\nContract Type: {type}')\n"
   ]
  },
  {
   "cell_type": "code",
   "execution_count": null,
   "metadata": {},
   "outputs": [],
   "source": []
  }
 ],
 "metadata": {
  "kernelspec": {
   "display_name": "Python 3",
   "language": "python",
   "name": "python3"
  },
  "language_info": {
   "codemirror_mode": {
    "name": "ipython",
    "version": 3
   },
   "file_extension": ".py",
   "mimetype": "text/x-python",
   "name": "python",
   "nbconvert_exporter": "python",
   "pygments_lexer": "ipython3",
   "version": "3.10.12"
  },
  "orig_nbformat": 4
 },
 "nbformat": 4,
 "nbformat_minor": 2
}
