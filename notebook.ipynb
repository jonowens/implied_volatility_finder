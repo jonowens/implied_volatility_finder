{
 "cells": [
  {
   "cell_type": "code",
   "execution_count": null,
   "metadata": {},
   "outputs": [],
   "source": [
    "# Implied Volatility Finder\n"
   ]
  },
  {
   "cell_type": "code",
   "execution_count": null,
   "metadata": {},
   "outputs": [],
   "source": [
    "from libs import my_functions\n",
    "import libs.universe as tickers\n",
    "import pandas as pd\n",
    "import pprint\n"
   ]
  },
  {
   "cell_type": "code",
   "execution_count": null,
   "metadata": {},
   "outputs": [],
   "source": [
    "start = '2023-09-01'\n",
    "end = '2023-09-07'\n",
    "tickers_list = tickers.Universe\n"
   ]
  },
  {
   "cell_type": "code",
   "execution_count": null,
   "metadata": {},
   "outputs": [],
   "source": [
    "result = my_functions.Alpaca_Markets.get_stock_data(tickers_list, '23Hour', start, end)\n",
    "result\n"
   ]
  },
  {
   "cell_type": "code",
   "execution_count": null,
   "metadata": {},
   "outputs": [],
   "source": [
    "iv_result = my_functions.calculate_volatility(result, tickers_list, '2023-06-01', end)\n",
    "iv_resultsorted_iv = iv_result.sort_values(ascending = False).head(20)\n",
    "iv_resultsorted_iv\n"
   ]
  },
  {
   "cell_type": "code",
   "execution_count": null,
   "metadata": {},
   "outputs": [],
   "source": [
    "polygon_response = my_functions.Polygon_Markets.get_stock_data('AAPL', 1, 'day', '2023-09-01', '2023-09-12', 50000)\n",
    "polygon_response\n"
   ]
  },
  {
   "cell_type": "code",
   "execution_count": null,
   "metadata": {},
   "outputs": [],
   "source": [
    "polygon_options = my_functions.Polygon_Markets.get_options_data('F', '2023-09-18', '2023-10-30', 20, 150)\n"
   ]
  },
  {
   "cell_type": "code",
   "execution_count": null,
   "metadata": {},
   "outputs": [],
   "source": [
    "opt = pprint.pprint(polygon_options)"
   ]
  },
  {
   "cell_type": "code",
   "execution_count": null,
   "metadata": {},
   "outputs": [],
   "source": [
    "import requests\n",
    "import os\n",
    "from dotenv import load_dotenv\n",
    "from pprint import pprint\n",
    "import json\n",
    "\n",
    "load_dotenv()\n",
    "\n",
    "polygon_key = os.getenv(\"POLYGON_API_KEY\")\n",
    "\n",
    "url = 'https://api.polygon.io/v3/snapshot/options/'\n",
    "url += 'EVRI'\n",
    "url+= f'?apiKey={polygon_key}'\n",
    "\n",
    "res = requests.get(url)\n",
    "res_formatted = res.json()\n",
    "pprint(res_formatted)\n"
   ]
  },
  {
   "cell_type": "code",
   "execution_count": null,
   "metadata": {},
   "outputs": [],
   "source": [
    "exp_date = res_formatted['results'][0]['details']['expiration_date']\n",
    "strike = res_formatted['results'][0]['details']['strike_price']\n",
    "type = res_formatted['results'][0]['details']['contract_type']\n",
    "print(f'Expiration Date: {exp_date}\\nStrike: {strike}\\nContract Type: {type}')\n"
   ]
  },
  {
   "cell_type": "code",
   "execution_count": null,
   "metadata": {},
   "outputs": [],
   "source": [
    "import requests\n",
    "import os\n",
    "from dotenv import load_dotenv\n",
    "from pprint import pprint\n",
    "import json\n",
    "from libs import universe\n",
    "import pandas as pd\n",
    "import logging\n",
    "import time\n",
    "\n",
    "load_dotenv()\n",
    "\n",
    "symbol_list = ['NFLX', 'F', 'AAPL']\n",
    "#consumer_key = os.getenv('TDAMERITRADE_CONSUMER_KEY')\n",
    "contract_type = 'PUT'\n",
    "count = 2\n",
    "#range_values = ''\n",
    "to_date = '2023-10-13'\n",
    "expiration_month = 'OCT'\n",
    "bearer_key = os.getenv('TDAMERITRADE_ACCESS_TOKEN')\n",
    "headers_auth = {\"Authorization\": \"Bearer \" + str(bearer_key)}\n",
    "\n",
    "\n",
    "data = {}\n",
    "my_data = []\n",
    "\n",
    "# Create logging object\n",
    "logger = logging.getLogger(__name__)\n",
    "logging.basicConfig(format='%(asctime)s %(message)s', filename='./exceptions.log', level=logging.INFO)\n",
    "\n",
    "for i in range(len(symbol_list)):\n",
    "    if i % 120 == 0:\n",
    "         time.sleep(65)\n",
    "\n",
    "    url = 'https://api.tdameritrade.com/v1/marketdata/chains?'\n",
    "    url += f'&symbol={symbol_list[i]}'\n",
    "    url += f'&contractType={contract_type}'\n",
    "    url += f'&strikeCount={count}'\n",
    "    url += f'&toDate={to_date}'\n",
    "    url += f'&expMonth={expiration_month}'\n",
    "\n",
    "    try:\n",
    "        td_resp = requests.get(url, headers=headers_auth)\n",
    "    except Exception as e:\n",
    "         logger.info(f'\\nIssue is with response from GET request. {e}\\nSymbol is:\\n{symbol_list[i]}\\n\\n')\n",
    "\n",
    "    symbol_data = td_resp.content.decode('ASCII')\n",
    "    res_again = json.loads(symbol_data)\n",
    "\n",
    "    try:\n",
    "        if res_again[\"status\"] == 'SUCCESS':\n",
    "            data[\"symbol\"] = res_again['symbol']\n",
    "            data[\"underlying price\"] = float(res_again['underlyingPrice'])\n",
    "            data[\"strike price\"] = float(list(res_again['putExpDateMap'][list(res_again['putExpDateMap'].keys())[0]].keys())[0])\n",
    "            data[\"volatility\"] = float(res_again['putExpDateMap'][list(res_again['putExpDateMap'].keys())[0]][list(res_again['putExpDateMap'][list(res_again['putExpDateMap'].keys())[0]].keys())[0]][0]['volatility'])\n",
    "            data[\"theoretical volatility\"] = float(res_again['putExpDateMap'][list(res_again['putExpDateMap'].keys())[0]][list(res_again['putExpDateMap'][list(res_again['putExpDateMap'].keys())[0]].keys())[0]][0]['theoreticalVolatility'])\n",
    "\n",
    "            my_data.append(data.copy())\n",
    "    except Exception as e:\n",
    "            # Log exceptions and continue to next symbol\n",
    "            logger.info(f'\\nIssue that was thrown is related to data \"status\" check or data assignment to dictionary:\\n{e}\\nSymbol is:\\n{symbol_list[i]}\\n\\n')\n",
    "            continue\n",
    "\n"
   ]
  },
  {
   "cell_type": "code",
   "execution_count": null,
   "metadata": {},
   "outputs": [],
   "source": [
    "data_df = pd.DataFrame(my_data).set_index('symbol')\n",
    "data_df.sort_values(by=['strike price'], ascending=False, inplace=True)\n",
    "data_df.head(10)\n",
    "\n"
   ]
  },
  {
   "cell_type": "code",
   "execution_count": null,
   "metadata": {},
   "outputs": [],
   "source": [
    "data_df_filtered_vol = data_df[data_df['volatility'] > 50]\n",
    "data_filtered_more = data_df_filtered_vol[data_df_filtered_vol['underlying price'] < 100.0]\n",
    "data_filtered_more\n"
   ]
  },
  {
   "cell_type": "code",
   "execution_count": null,
   "metadata": {},
   "outputs": [],
   "source": []
  }
 ],
 "metadata": {
  "kernelspec": {
   "display_name": "Python 3",
   "language": "python",
   "name": "python3"
  },
  "language_info": {
   "codemirror_mode": {
    "name": "ipython",
    "version": 3
   },
   "file_extension": ".py",
   "mimetype": "text/x-python",
   "name": "python",
   "nbconvert_exporter": "python",
   "pygments_lexer": "ipython3",
   "version": "3.10.12"
  },
  "orig_nbformat": 4
 },
 "nbformat": 4,
 "nbformat_minor": 2
}
